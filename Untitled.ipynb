{
 "cells": [
  {
   "cell_type": "code",
   "execution_count": 3,
   "metadata": {},
   "outputs": [
    {
     "name": "stdout",
     "output_type": "stream",
     "text": [
      "1.11.0\n"
     ]
    }
   ],
   "source": [
    "import tensorflow as tf\n",
    "print(tf.__version__)"
   ]
  },
  {
   "cell_type": "code",
   "execution_count": 8,
   "metadata": {},
   "outputs": [],
   "source": [
    "import tensorflow.keras as keras"
   ]
  },
  {
   "cell_type": "code",
   "execution_count": 23,
   "metadata": {},
   "outputs": [],
   "source": [
    "# initialize data storage\n",
    "data = {}\n",
    "data['date'] = []\n",
    "data['temp'] = []\n",
    "data['high'] = []\n",
    "data['low'] = []\n",
    "data['condition'] = []\n",
    "\n",
    "conditions = []"
   ]
  },
  {
   "cell_type": "code",
   "execution_count": 27,
   "metadata": {},
   "outputs": [
    {
     "name": "stdout",
     "output_type": "stream",
     "text": [
      "Column names are date, temp, high, low, condition\n",
      "Processed 1876 entries.\n"
     ]
    }
   ],
   "source": [
    "# import data to data\n",
    "import csv\n",
    "with open('weather.csv', mode='r') as csv_file:\n",
    "    csv_reader = csv.DictReader(csv_file)\n",
    "    line_count = 0\n",
    "    for row in csv_reader:\n",
    "        if line_count == 0:\n",
    "            print(f'Column names are {\", \".join(row)}')\n",
    "        else:\n",
    "            data['date'].append(row['date'])\n",
    "            data['temp'].append(row['temp'])\n",
    "            data['high'].append(row['high'])\n",
    "            data['low'].append(row['low'])\n",
    "            if row['condition'] not in conditions:\n",
    "                conditions.append(row['condition'])\n",
    "            data['condition'].append(conditions.index(row['condition']))\n",
    "        line_count += 1\n",
    "    print(f'Processed {line_count - 1} entries.')"
   ]
  },
  {
   "cell_type": "code",
   "execution_count": null,
   "metadata": {},
   "outputs": [],
   "source": [
    "model = keras.Sequential()\n",
    "model.add()"
   ]
  }
 ],
 "metadata": {
  "kernelspec": {
   "display_name": "Python 3",
   "language": "python",
   "name": "python3"
  },
  "language_info": {
   "codemirror_mode": {
    "name": "ipython",
    "version": 3
   },
   "file_extension": ".py",
   "mimetype": "text/x-python",
   "name": "python",
   "nbconvert_exporter": "python",
   "pygments_lexer": "ipython3",
   "version": "3.6.5"
  }
 },
 "nbformat": 4,
 "nbformat_minor": 2
}
